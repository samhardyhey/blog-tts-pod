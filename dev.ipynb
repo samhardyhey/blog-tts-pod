{
 "cells": [
  {
   "cell_type": "code",
   "execution_count": null,
   "metadata": {},
   "outputs": [],
   "source": [
    "import nltk\n",
    "from nltk.tokenize import sent_tokenize\n",
    "from nltk.corpus import stopwords\n",
    "from nltk.stem import PorterStemmer\n",
    "from nltk.probability import FreqDist\n",
    "from nltk.tokenize import word_tokenize\n",
    "from nltk.tokenize import RegexpTokenizer\n",
    "from nltk.cluster.util import cosine_distance\n",
    "import numpy as np\n",
    "\n",
    "def summarize_text(text, num_sentences):\n",
    "    sentences = sent_tokenize(text)\n",
    "    tokenizer = RegexpTokenizer(r'\\w+')\n",
    "    stop_words = set(stopwords.words('english'))\n",
    "    ps = PorterStemmer()\n",
    "\n",
    "    # pre-process the sentences\n",
    "    words_list = []\n",
    "    for sentence in sentences:\n",
    "        words = tokenizer.tokenize(sentence)\n",
    "        words = [ps.stem(word.lower()) for word in words if word.lower() not in stop_words]\n",
    "        words_list.append(words)\n",
    "\n",
    "    # calculate the sentence similarity matrix\n",
    "    sim_matrix = np.zeros([len(sentences), len(sentences)])\n",
    "    for i in range(len(sentences)):\n",
    "        for j in range(len(sentences)):\n",
    "            if i != j:\n",
    "                sim_matrix[i][j] = cosine_distance(words_list[i], words_list[j])\n",
    "\n",
    "    # apply page rank algorithm to get sentence scores\n",
    "    sentence_scores = np.array([sum(sim_matrix[i]) for i in range(len(sim_matrix))])\n",
    "    ranked_sentences = [sentences[i] for i in sentence_scores.argsort()[-num_sentences:]]\n",
    "\n",
    "    return ' '.join(ranked_sentences)\n"
   ]
  }
 ],
 "metadata": {
  "kernelspec": {
   "display_name": "p310",
   "language": "python",
   "name": "python3"
  },
  "language_info": {
   "codemirror_mode": {
    "name": "ipython",
    "version": 3
   },
   "file_extension": ".py",
   "mimetype": "text/x-python",
   "name": "python",
   "nbconvert_exporter": "python",
   "pygments_lexer": "ipython3",
   "version": "3.10.10"
  },
  "orig_nbformat": 4,
  "vscode": {
   "interpreter": {
    "hash": "0fb7ad1863bba2e2a149175e2f293cc7effc6691cc580cfc80ad00772d007246"
   }
  }
 },
 "nbformat": 4,
 "nbformat_minor": 2
}
