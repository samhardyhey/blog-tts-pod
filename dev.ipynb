{
 "cells": [
  {
   "cell_type": "code",
   "execution_count": 58,
   "metadata": {},
   "outputs": [],
   "source": [
    "import pandas as pd\n",
    "\n",
    "df = (pd.read_csv('./data/naut_all.csv')\n",
    "      .assign(sents=lambda x: x.sents.apply(eval))\n",
    "      )"
   ]
  },
  {
   "cell_type": "code",
   "execution_count": 105,
   "metadata": {},
   "outputs": [
    {
     "data": {
      "text/plain": [
       "'b\\'\\\\n  <h1>Editor\\\\\\'s Note</h1>\\\\n\\\\n  <h4 class=\"foc\"/>\\\\n\\\\n  <h2>The Story of Nautilus</h2>\\\\n\\\\n  <h3>The nautilus, our namesake, is the subject of science, math and myth.</h3>\\\\n\\\\n  <h4>By Michael Segal<br/></h4>\\\\n\\\\n  <div class=\"diamond\">\\\\n    \\\\xe2\\\\x99\\\\xa6\\\\n  </div>\\\\n\\\\n  <div class=\"cont\">\\\\n    <p><b>Behold the humble nautilus.</b> Just about a foot in diameter, it is a slow bottom-dweller with short tentacles that moves through the water with an unsteady wobble. It\\\\xe2\\\\x80\\\\x99s also 500 million years old and, in its day, was the best and brightest, using its newly evolved depth control to lay waste to acre after acre of scuttling crustacean prey.</p>\\\\n\\\\n    <p>We became interested in it here at <i>Nautilus</i> because, well, we stole its name. But also because (for a mollusk) it represents a remarkable intersection of science, math, myth, and culture. Since that is exactly the kind of intersection we love to write about, we decided to put together a little \\\\xe2\\\\x80\\\\x9cteaser\\\\xe2\\\\x80\\\\x9d issue all about it.</p>\\\\n\\\\n    <p>There\\\\xe2\\\\x80\\\\x99s the science. The nautilus has a beautiful, logarithmic, and fractal spiral in its shell. Benoit Mandelbrot, discoverer of the fractal, gives us a few words on that topic. One of the world\\\\xe2\\\\x80\\\\x99s foremost nautilus experts, Peter Ward, tells us about nautilus evolution and biology, and about his life of nautilus research.</p>\\\\n\\\\n    <p>Then, the myth: from Jules Verne\\\\xe2\\\\x80\\\\x99s fictional submarine, to Oliver Wendell Holmes\\\\xe2\\\\x80\\\\x99 poem, to how and why we turn science into story.</p>\\\\n\\\\n    <p>Two chapters, one undersea creature. Welcome aboard.</p>\\\\n\\\\n    <p><br/></p>\\\\n\\\\n    <p>Michael Segal<br/>\\\\n    Editor in Chief</p>\\\\n  </div>\\\\n\\''"
      ]
     },
     "execution_count": 105,
     "metadata": {},
     "output_type": "execute_result"
    }
   ],
   "source": [
    "df.iloc[0].content"
   ]
  },
  {
   "cell_type": "code",
   "execution_count": 173,
   "metadata": {},
   "outputs": [
    {
     "name": "stdout",
     "output_type": "stream",
     "text": [
      "[] ['Dress for Evolutionary Success'] ['What makes us quintessentially human? Fashion!'] ['Culture | Anthropology', 'By Jeanne Carstensen\\n  Illustrations by John Hendrix']\n"
     ]
    },
    {
     "data": {
      "text/plain": [
       "{'headline': 'Dress for Evolutionary Success',\n",
       " 'byline': 'What makes us quintessentially human? Fashion!',\n",
       " 'segment': 'Culture | Anthropology',\n",
       " 'author': 'By Jeanne Carstensen\\n  Illustrations by John Hendrix'}"
      ]
     },
     "execution_count": 173,
     "metadata": {},
     "output_type": "execute_result"
    }
   ],
   "source": [
    "extract_article_metadata(df.iloc[12].content)"
   ]
  }
 ],
 "metadata": {
  "kernelspec": {
   "display_name": "p310",
   "language": "python",
   "name": "python3"
  },
  "language_info": {
   "codemirror_mode": {
    "name": "ipython",
    "version": 3
   },
   "file_extension": ".py",
   "mimetype": "text/x-python",
   "name": "python",
   "nbconvert_exporter": "python",
   "pygments_lexer": "ipython3",
   "version": "3.10.10"
  },
  "vscode": {
   "interpreter": {
    "hash": "0fb7ad1863bba2e2a149175e2f293cc7effc6691cc580cfc80ad00772d007246"
   }
  }
 },
 "nbformat": 4,
 "nbformat_minor": 2
}
