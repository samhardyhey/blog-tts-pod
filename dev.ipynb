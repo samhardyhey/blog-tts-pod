{
 "cells": [
  {
   "cell_type": "code",
   "execution_count": null,
   "metadata": {},
   "outputs": [],
   "source": [
    "import pandas as pd\n",
    "\n",
    "# re-assign issue/article numbers, whoops\n",
    "df = (\n",
    "    pd.read_csv(\"./data/naut_all.csv\")\n",
    "    .assign(issue_number=lambda x: x.issue_title.factorize()[0] + 1)\n",
    "    .assign(article_number=lambda x: x.groupby('issue_number').cumcount() + 1)\n",
    ")\n"
   ]
  },
  {
   "cell_type": "code",
   "execution_count": null,
   "metadata": {},
   "outputs": [],
   "source": [
    "# GCP cost?\n",
    "def string_size_in_bytes(s):\n",
    "    return len(s.encode('utf-8'))\n",
    "\n",
    "# 23 million bytes\n",
    "(df.article.apply(string_size_in_bytes).sum() - 1000000) * 0.000016\n",
    "# ~353.800848 US for all text, less free month allowance"
   ]
  },
  {
   "cell_type": "code",
   "execution_count": null,
   "metadata": {},
   "outputs": [],
   "source": [
    "# coqui price estimates?\n",
    "from pydub import AudioSegment\n",
    "\n",
    "import glob\n",
    "from pathlib import Path\n",
    "\n",
    "# 10 TTS\n",
    "audio_files = list(Path('./data/tts_output/tacotron2_ddc_ph').rglob('*/*.mp3'))\n",
    "\n",
    "def get_audio_length(filename):\n",
    "    audio = AudioSegment.from_file(filename)\n",
    "    return len(audio)  # length in milliseconds\n",
    "\n",
    "audio_all = []\n",
    "for audio_file in audio_files:\n",
    "    length = get_audio_length(audio_file) / 1000.0  # convert to seconds\n",
    "    audio_all.append(length)\n",
    "\n",
    "# hours > https://coqui.ai/pricing > $20/4 hours\n",
    "sum(audio_all) / 60 / 60\n",
    "# 2.2028605555555556, yikes\n"
   ]
  },
  {
   "attachments": {},
   "cell_type": "markdown",
   "metadata": {},
   "source": [
    "## Tortoise Diffusion models"
   ]
  },
  {
   "cell_type": "code",
   "execution_count": null,
   "metadata": {},
   "outputs": [],
   "source": [
    "import sys\n",
    "\n",
    "sys.path.append('../tortoise-tts/tortoise')\n",
    "\n",
    "import os\n",
    "\n",
    "import torch\n",
    "import torchaudio\n",
    "\n",
    "from tortoise.api import TextToSpeech, MODELS_DIR\n",
    "from tortoise.utils.audio import load_voices\n",
    "\n",
    "voices = \"\"\"angie                daniel  freeman  jlaw  myself  rainbow       tom           train_dotrice  train_grace     train_mouse\n",
    "applejack            deniro  geralt   lj    pat     snakes        train_atkins  train_dreams   train_kennard   weaver\n",
    "cond_latent_example  emma    halle    mol   pat2    tim_reynolds  train_daws    train_empire   train_lescault  william\"\"\"\n",
    "\n",
    "from pathlib import Path\n",
    "\n",
    "output_dir = Path('./data/tts_output/dev/tortoise')\n",
    "output_dir.mkdir(parents=True, exist_ok=True)\n",
    "\n",
    "voices_formatted = [word for line in voices.splitlines() for word in line.split()]\n",
    "model = voices_formatted[0]\n",
    "\n",
    "tts = TextToSpeech(models_dir=MODELS_DIR)\n",
    "voice_samples, conditioning_latents = load_voices([model])"
   ]
  },
  {
   "cell_type": "code",
   "execution_count": null,
   "metadata": {},
   "outputs": [],
   "source": [
    "from utils import nautilus_editors_note\n",
    "import spacy\n",
    "\n",
    "nlp = spacy.load('en_core_web_md')\n",
    "\n",
    "sents = [e.text for e in list(nlp(nautilus_editors_note).sents)]"
   ]
  },
  {
   "cell_type": "code",
   "execution_count": null,
   "metadata": {},
   "outputs": [],
   "source": [
    "for idx, sent in enumerate(sents):\n",
    "    print(sent)\n",
    "    gen, dbg_state = tts.tts_with_preset(sent, k=1, voice_samples=voice_samples,\n",
    "                                        conditioning_latents=conditioning_latents, preset=\"fast\",\n",
    "                                        use_deterministic_seed=42, return_deterministic_state=True, cvvp_amount=.0)\n",
    "    torchaudio.save(str(output_dir / f\"test_{idx}.wav\"), gen.squeeze(0).cpu(), 24000)"
   ]
  },
  {
   "cell_type": "code",
   "execution_count": null,
   "metadata": {},
   "outputs": [],
   "source": [
    "# picks?\n",
    "ddc\n",
    "\n",
    "en_au_neural2_a\n",
    "en_au_neural2_b\n",
    "\n",
    "en_au_neural2_c\n",
    "en_au_neural2_d"
   ]
  },
  {
   "cell_type": "code",
   "execution_count": null,
   "metadata": {},
   "outputs": [],
   "source": [
    "model_configurations = [{'type': 'coqui',\n",
    "'name': \"tts_models/en/ljspeech/tacotron2-DDC\",},\n",
    "{'type': 'coqui',\n",
    "'name': \"tts_models/en/ljspeech/tacotron2-DDC\",},\n",
    "{'type': 'coqui',\n",
    "'name': \"tts_models/en/ljspeech/tacotron2-DDC\",},\n",
    "\n",
    "]"
   ]
  },
  {
   "cell_type": "code",
   "execution_count": null,
   "metadata": {},
   "outputs": [],
   "source": [
    "from utils import to_snake_case\n",
    "from pathlib import Path\n",
    "from tts import tts_coqui\n",
    "\n",
    "coqui_model = \"tts_models/en/ljspeech/tacotron2-DDC_ph\"\n",
    "output_dir = Path(\"./data/tts_output/\") / to_snake_case(Path(coqui_model).name)\n",
    "if output_dir.exists() is False:\n",
    "    output_dir.mkdir(parents=True)\n",
    "\n",
    "for idx, row in df.head(10).iterrows():\n",
    "    issue_dir = output_dir / f\"{row.issue_number}_{to_snake_case(row.issue_title)}\"\n",
    "    if issue_dir.exists() is False:\n",
    "        issue_dir.mkdir(parents=True)\n",
    "    article_fp = issue_dir / f\"{row.article_number}_{to_snake_case(row.headline)}.mp3\"\n",
    "\n",
    "    tts_coqui(\n",
    "            coqui_model,\n",
    "            row.article,\n",
    "            article_fp\n",
    "        )"
   ]
  },
  {
   "cell_type": "code",
   "execution_count": null,
   "metadata": {},
   "outputs": [],
   "source": [
    "issue_dir / f\"{to_snake_case(row.headline)}.mp3\""
   ]
  }
 ],
 "metadata": {
  "kernelspec": {
   "display_name": "p310",
   "language": "python",
   "name": "python3"
  },
  "language_info": {
   "codemirror_mode": {
    "name": "ipython",
    "version": 3
   },
   "file_extension": ".py",
   "mimetype": "text/x-python",
   "name": "python",
   "nbconvert_exporter": "python",
   "pygments_lexer": "ipython3",
   "version": "3.10.10"
  },
  "vscode": {
   "interpreter": {
    "hash": "0fb7ad1863bba2e2a149175e2f293cc7effc6691cc580cfc80ad00772d007246"
   }
  }
 },
 "nbformat": 4,
 "nbformat_minor": 2
}
