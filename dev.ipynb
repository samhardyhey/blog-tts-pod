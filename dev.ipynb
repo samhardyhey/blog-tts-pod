{
 "cells": [
  {
   "cell_type": "code",
   "execution_count": null,
   "metadata": {},
   "outputs": [],
   "source": [
    "splits = df.iloc[2].parsed_content.split('\\n')"
   ]
  },
  {
   "cell_type": "code",
   "execution_count": null,
   "metadata": {},
   "outputs": [],
   "source": [
    "import spacy\n",
    "\n",
    "nlp = spacy.load('en_core_web_md')"
   ]
  },
  {
   "cell_type": "code",
   "execution_count": null,
   "metadata": {},
   "outputs": [],
   "source": [
    "doc = nlp('By Amos Zeeberg, Jonathon Keats & Brandon Keim')"
   ]
  },
  {
   "cell_type": "code",
   "execution_count": null,
   "metadata": {},
   "outputs": [],
   "source": [
    "doc.ents"
   ]
  },
  {
   "cell_type": "code",
   "execution_count": null,
   "metadata": {},
   "outputs": [],
   "source": [
    "input = \"\"\"Behold the humble nautilus. Just about a foot in diameter, it is a slow bottom-dweller with short tentacles that moves through the water with an unsteady wobble. It’s also 500 million years old and, in its day, was the best and brightest, using its newly evolved depth control to lay waste to acre after acre of scuttling crustacean prey.',\n",
    " 'We became interested in it here at Nautilus because, well, we stole its name. But also because (for a mollusk) it represents a remarkable intersection of science, math, myth, and culture. Since that is exactly the kind of intersection we love to write about, we decided to put together a little “teaser” issue all about it.',\n",
    " 'There’s the science. The nautilus has a beautiful, logarithmic, and fractal spiral in its shell. Benoit Mandelbrot, discoverer of the fractal, gives us a few words on that topic. One of the world’s foremost nautilus experts, Peter Ward, tells us about nautilus evolution and biology, and about his life of nautilus research.',\n",
    " 'Then, the myth: from Jules Verne’s fictional submarine, to Oliver Wendell Holmes’ poem, to how and why we turn science into story.',\n",
    " 'Two chapters, one undersea creature. Welcome aboard.\"\"\""
   ]
  },
  {
   "cell_type": "code",
   "execution_count": null,
   "metadata": {},
   "outputs": [],
   "source": [
    "sents = df.sents.apply(eval).tolist()"
   ]
  },
  {
   "cell_type": "code",
   "execution_count": null,
   "metadata": {},
   "outputs": [],
   "source": []
  },
  {
   "cell_type": "code",
   "execution_count": null,
   "metadata": {},
   "outputs": [],
   "source": [
    "df.iloc[-1].author"
   ]
  },
  {
   "cell_type": "code",
   "execution_count": null,
   "metadata": {},
   "outputs": [],
   "source": [
    "sents[-1]"
   ]
  },
  {
   "cell_type": "code",
   "execution_count": null,
   "metadata": {},
   "outputs": [],
   "source": [
    "import pandas as pd\n",
    "from TTS.api import TTS\n",
    "\n",
    "df = pd.read_csv(\"./data/naut_all.csv\")\n",
    "# model_name = \"tts_models/en/ljspeech/tacotron2-DDC\"\n",
    "# tts = TTS(model_name)\n",
    "\n",
    "# # for idx, row in df.iterrows():\n",
    "# # TODO: long-form inputs > split? split sizes can't be bigger than kernel still\n",
    "# # tts.tts_to_file(text=df.iloc[0].parsed_content, file_path=\"./data/parsed_content.wav\")\n",
    "# tts.tts_to_file(text=input, file_path=\"./data/parsed_content.wav\")\n"
   ]
  },
  {
   "cell_type": "code",
   "execution_count": null,
   "metadata": {},
   "outputs": [],
   "source": [
    "df"
   ]
  }
 ],
 "metadata": {
  "kernelspec": {
   "display_name": "p310",
   "language": "python",
   "name": "python3"
  },
  "language_info": {
   "codemirror_mode": {
    "name": "ipython",
    "version": 3
   },
   "file_extension": ".py",
   "mimetype": "text/x-python",
   "name": "python",
   "nbconvert_exporter": "python",
   "pygments_lexer": "ipython3",
   "version": "3.10.10"
  },
  "orig_nbformat": 4,
  "vscode": {
   "interpreter": {
    "hash": "0fb7ad1863bba2e2a149175e2f293cc7effc6691cc580cfc80ad00772d007246"
   }
  }
 },
 "nbformat": 4,
 "nbformat_minor": 2
}
