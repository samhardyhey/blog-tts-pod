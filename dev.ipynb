{
 "cells": [
  {
   "cell_type": "code",
   "execution_count": 18,
   "metadata": {},
   "outputs": [],
   "source": [
    "nautilus_editors_note = \"\"\"Behold the humble nautilus. Just about a foot in diameter, it is a slow bottom-dweller with short tentacles that moves through the water with an unsteady wobble. It’s also 500 million years old and, in its day, was the best and brightest, using its newly evolved depth control to lay waste to acre after acre of scuttling crustacean prey.',\n",
    " 'We became interested in it here at Nautilus because, well, we stole its name. But also because (for a mollusk) it represents a remarkable intersection of science, math, myth, and culture. Since that is exactly the kind of intersection we love to write about, we decided to put together a little “teaser” issue all about it.',\n",
    " 'There’s the science. The nautilus has a beautiful, logarithmic, and fractal spiral in its shell. Benoit Mandelbrot, discoverer of the fractal, gives us a few words on that topic. One of the world’s foremost nautilus experts, Peter Ward, tells us about nautilus evolution and biology, and about his life of nautilus research.',\n",
    " 'Then, the myth: from Jules Verne’s fictional submarine, to Oliver Wendell Holmes’ poem, to how and why we turn science into story.',\n",
    " 'Two chapters, one undersea creature. Welcome aboard.\"\"\"\n",
    "\n",
    "# apply ftfy?\n",
    "nautilus_editors_note = \"\"\"'Behold the humble nautilus. Just about a foot in diameter, it is a slow bottom-dweller with short tentacles that moves through the water with an unsteady wobble. It\\'s also 500 million years old and, in its day, was the best and brightest, using its newly evolved depth control to lay waste to acre after acre of scuttling crustacean prey.\\',\\n \\'We became interested in it here at Nautilus because, well, we stole its name. But also because (for a mollusk) it represents a remarkable intersection of science, math, myth, and culture. Since that is exactly the kind of intersection we love to write about, we decided to put together a little \"teaser\" issue all about it.\\',\\n \\'There\\'s the science. The nautilus has a beautiful, logarithmic, and fractal spiral in its shell. Benoit Mandelbrot, discoverer of the fractal, gives us a few words on that topic. One of the world\\'s foremost nautilus experts, Peter Ward, tells us about nautilus evolution and biology, and about his life of nautilus research.\\',\\n \\'Then, the myth: from Jules Verne\\'s fictional submarine, to Oliver Wendell Holmes\\' poem, to how and why we turn science into story.\\',\\n \\'Two chapters, one undersea creature. Welcome aboard.'\"\"\""
   ]
  },
  {
   "cell_type": "code",
   "execution_count": 12,
   "metadata": {},
   "outputs": [
    {
     "data": {
      "text/plain": [
       "[\"Behold the humble nautilus. Just about a foot in diameter, it is a slow bottom-dweller with short tentacles that moves through the water with an unsteady wobble. It's also 500 million years old and, in its day, was the best and brightest, using its newly evolved depth control to lay waste to acre after acre of scuttling crustacean prey.',\",\n",
       " '\\'We became interested in it here at Nautilus because, well, we stole its name. But also because (for a mollusk) it represents a remarkable intersection of science, math, myth, and culture. Since that is exactly the kind of intersection we love to write about, we decided to put together a little \"teaser\" issue all about it.\\',',\n",
       " \"'There's the science. The nautilus has a beautiful, logarithmic, and fractal spiral in its shell. Benoit Mandelbrot, discoverer of the fractal, gives us a few words on that topic. One of the world's foremost nautilus experts, Peter Ward, tells us about nautilus evolution and biology, and about his life of nautilus research.',\",\n",
       " \"'Then, the myth: from Jules Verne's fictional submarine, to Oliver Wendell Holmes' poem, to how and why we turn science into story.',\",\n",
       " \"'Two chapters, one undersea creature. Welcome aboard.\"]"
      ]
     },
     "execution_count": 12,
     "metadata": {},
     "output_type": "execute_result"
    }
   ],
   "source": [
    "import ftfy\n",
    "\n",
    "[e.strip() for e in ftfy.ftfy(nautilus_editors_note).split('\\n')]"
   ]
  },
  {
   "attachments": {},
   "cell_type": "markdown",
   "metadata": {},
   "source": [
    "## Cocqui OSS"
   ]
  },
  {
   "cell_type": "code",
   "execution_count": 36,
   "metadata": {},
   "outputs": [],
   "source": [
    "from pathlib import Path\n",
    "import pandas as pd\n",
    "from TTS.api import TTS\n",
    "\n",
    "\n",
    "model_names = [\n",
    "    'tts_models/en/ek1/tacotron2',\n",
    " 'tts_models/en/ljspeech/tacotron2-DDC',\n",
    " 'tts_models/en/ljspeech/tacotron2-DDC_ph',\n",
    " 'tts_models/en/ljspeech/glow-tts',\n",
    "]\n",
    "\n",
    "model_names = [e for e in TTS.list_models() if 'en' in e]\n",
    "save_dir = Path(\"./data/tts_output/dev/\")\n",
    "if not save_dir.exists():\n",
    "    save_dir.mkdir(parents=True, exist_ok=True)\n",
    "\n",
    "for model_name in model_names:\n",
    "    try:\n",
    "        tts = TTS(model_name=model_name, gpu=True)\n",
    "        file_save = save_dir / f\"nautilus_{Path(model_name).name}.wav\"\n",
    "        if file_save.exists:\n",
    "            continue\n",
    "        tts.tts_to_file(\n",
    "            text=nautilus_editors_note, file_path=file_save\n",
    "        )\n",
    "    except Exception:\n",
    "        print(f\"**Unable to use {model_name}\")\n",
    "        continue\n"
   ]
  },
  {
   "attachments": {},
   "cell_type": "markdown",
   "metadata": {},
   "source": [
    "## AWS Polly TTS"
   ]
  },
  {
   "cell_type": "code",
   "execution_count": null,
   "metadata": {},
   "outputs": [],
   "source": [
    "import boto3\n",
    "\n",
    "# AU polly voice models\n",
    "model_names = [\n",
    "    \"Nicole\",\n",
    "    \"Russell\",\n",
    "]\n",
    "\n",
    "# Create a client using your credentials\n",
    "polly_client = boto3.Session().client(\"polly\")\n",
    "\n",
    "for model_name in model_names:\n",
    "    print(model_name)\n",
    "    # Use Polly\n",
    "    response = polly_client.synthesize_speech(\n",
    "        VoiceId=model_name, OutputFormat=\"mp3\", Text=nautilus_editors_note\n",
    "    )\n",
    "\n",
    "    # Save the audio to a file\n",
    "    file_save = save_dir / f\"nautilus_{Path(model_name).name}.wav\"\n",
    "    with open(str(file_save), \"wb\") as file:\n",
    "        file.write(response[\"AudioStream\"].read())\n"
   ]
  }
 ],
 "metadata": {
  "kernelspec": {
   "display_name": "p310",
   "language": "python",
   "name": "python3"
  },
  "language_info": {
   "codemirror_mode": {
    "name": "ipython",
    "version": 3
   },
   "file_extension": ".py",
   "mimetype": "text/x-python",
   "name": "python",
   "nbconvert_exporter": "python",
   "pygments_lexer": "ipython3",
   "version": "3.10.10"
  },
  "vscode": {
   "interpreter": {
    "hash": "0fb7ad1863bba2e2a149175e2f293cc7effc6691cc580cfc80ad00772d007246"
   }
  }
 },
 "nbformat": 4,
 "nbformat_minor": 2
}
